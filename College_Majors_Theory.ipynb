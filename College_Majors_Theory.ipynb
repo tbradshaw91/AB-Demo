{
  "nbformat": 4,
  "nbformat_minor": 0,
  "metadata": {
    "colab": {
      "name": "College Majors Theory.ipynb",
      "version": "0.3.2",
      "provenance": [],
      "include_colab_link": true
    },
    "kernelspec": {
      "name": "python3",
      "display_name": "Python 3"
    }
  },
  "cells": [
    {
      "cell_type": "markdown",
      "metadata": {
        "id": "view-in-github",
        "colab_type": "text"
      },
      "source": [
        "<a href=\"https://colab.research.google.com/github/tbradshaw91/AB-Demo/blob/master/College_Majors_Theory.ipynb\" target=\"_parent\"><img src=\"https://colab.research.google.com/assets/colab-badge.svg\" alt=\"Open In Colab\"/></a>"
      ]
    },
    {
      "metadata": {
        "id": "zoe-dlPAzsjX",
        "colab_type": "text"
      },
      "cell_type": "markdown",
      "source": [
        "**Pulling in all of the dataframes related to my research. I may or may not use them all, but it is good to have all of my data in one place to reference.  **"
      ]
    },
    {
      "metadata": {
        "id": "QfTs2lv20RcY",
        "colab_type": "text"
      },
      "cell_type": "markdown",
      "source": [
        "**Data Source: data.world, pulled together from fivethirtyeight**"
      ]
    },
    {
      "metadata": {
        "id": "P8dVvocvI492",
        "colab_type": "code",
        "colab": {
          "base_uri": "https://localhost:8080/",
          "height": 360
        },
        "outputId": "7a815072-f6a8-434a-ea2f-e377c6045854"
      },
      "cell_type": "code",
      "source": [
        "!pip install --upgrade seaborn"
      ],
      "execution_count": 63,
      "outputs": [
        {
          "output_type": "stream",
          "text": [
            "Collecting seaborn\n",
            "\u001b[?25l  Downloading https://files.pythonhosted.org/packages/a8/76/220ba4420459d9c4c9c9587c6ce607bf56c25b3d3d2de62056efe482dadc/seaborn-0.9.0-py3-none-any.whl (208kB)\n",
            "\r\u001b[K    4% |█▋                              | 10kB 13.6MB/s eta 0:00:01\r\u001b[K    9% |███▏                            | 20kB 1.8MB/s eta 0:00:01\r\u001b[K    14% |████▊                           | 30kB 2.6MB/s eta 0:00:01\r\u001b[K    19% |██████▎                         | 40kB 1.7MB/s eta 0:00:01\r\u001b[K    24% |███████▉                        | 51kB 2.1MB/s eta 0:00:01\r\u001b[K    29% |█████████▌                      | 61kB 2.5MB/s eta 0:00:01\r\u001b[K    34% |███████████                     | 71kB 2.8MB/s eta 0:00:01\r\u001b[K    39% |████████████▋                   | 81kB 3.2MB/s eta 0:00:01\r\u001b[K    44% |██████████████▏                 | 92kB 3.6MB/s eta 0:00:01\r\u001b[K    49% |███████████████▊                | 102kB 2.8MB/s eta 0:00:01\r\u001b[K    54% |█████████████████▎              | 112kB 2.9MB/s eta 0:00:01\r\u001b[K    59% |███████████████████             | 122kB 4.0MB/s eta 0:00:01\r\u001b[K    63% |████████████████████▌           | 133kB 4.0MB/s eta 0:00:01\r\u001b[K    68% |██████████████████████          | 143kB 7.6MB/s eta 0:00:01\r\u001b[K    73% |███████████████████████▋        | 153kB 7.7MB/s eta 0:00:01\r\u001b[K    78% |█████████████████████████▏      | 163kB 7.6MB/s eta 0:00:01\r\u001b[K    83% |██████████████████████████▊     | 174kB 7.9MB/s eta 0:00:01\r\u001b[K    88% |████████████████████████████▍   | 184kB 8.0MB/s eta 0:00:01\r\u001b[K    93% |██████████████████████████████  | 194kB 8.0MB/s eta 0:00:01\r\u001b[K    98% |███████████████████████████████▌| 204kB 32.7MB/s eta 0:00:01\r\u001b[K    100% |████████████████████████████████| 215kB 22.2MB/s \n",
            "\u001b[?25hRequirement already satisfied, skipping upgrade: numpy>=1.9.3 in /usr/local/lib/python3.6/dist-packages (from seaborn) (1.16.2)\n",
            "Requirement already satisfied, skipping upgrade: scipy>=0.14.0 in /usr/local/lib/python3.6/dist-packages (from seaborn) (1.2.1)\n",
            "Requirement already satisfied, skipping upgrade: pandas>=0.15.2 in /usr/local/lib/python3.6/dist-packages (from seaborn) (0.23.4)\n",
            "Requirement already satisfied, skipping upgrade: matplotlib>=1.4.3 in /usr/local/lib/python3.6/dist-packages (from seaborn) (3.0.3)\n",
            "Requirement already satisfied, skipping upgrade: pytz>=2011k in /usr/local/lib/python3.6/dist-packages (from pandas>=0.15.2->seaborn) (2018.9)\n",
            "Requirement already satisfied, skipping upgrade: python-dateutil>=2.5.0 in /usr/local/lib/python3.6/dist-packages (from pandas>=0.15.2->seaborn) (2.5.3)\n",
            "Requirement already satisfied, skipping upgrade: kiwisolver>=1.0.1 in /usr/local/lib/python3.6/dist-packages (from matplotlib>=1.4.3->seaborn) (1.0.1)\n",
            "Requirement already satisfied, skipping upgrade: cycler>=0.10 in /usr/local/lib/python3.6/dist-packages (from matplotlib>=1.4.3->seaborn) (0.10.0)\n",
            "Requirement already satisfied, skipping upgrade: pyparsing!=2.0.4,!=2.1.2,!=2.1.6,>=2.0.1 in /usr/local/lib/python3.6/dist-packages (from matplotlib>=1.4.3->seaborn) (2.4.0)\n",
            "Requirement already satisfied, skipping upgrade: six>=1.5 in /usr/local/lib/python3.6/dist-packages (from python-dateutil>=2.5.0->pandas>=0.15.2->seaborn) (1.11.0)\n",
            "Requirement already satisfied, skipping upgrade: setuptools in /usr/local/lib/python3.6/dist-packages (from kiwisolver>=1.0.1->matplotlib>=1.4.3->seaborn) (40.9.0)\n",
            "Installing collected packages: seaborn\n",
            "  Found existing installation: seaborn 0.7.1\n",
            "    Uninstalling seaborn-0.7.1:\n",
            "      Successfully uninstalled seaborn-0.7.1\n",
            "Successfully installed seaborn-0.9.0\n"
          ],
          "name": "stdout"
        }
      ]
    },
    {
      "metadata": {
        "id": "p9mrEpX0JQfs",
        "colab_type": "code",
        "colab": {
          "base_uri": "https://localhost:8080/",
          "height": 34
        },
        "outputId": "6870b079-136e-4f8f-84da-7cbd01c6c7d0"
      },
      "cell_type": "code",
      "source": [
        "import seaborn as sns\n",
        "sns.__version__"
      ],
      "execution_count": 64,
      "outputs": [
        {
          "output_type": "execute_result",
          "data": {
            "text/plain": [
              "'0.9.0'"
            ]
          },
          "metadata": {
            "tags": []
          },
          "execution_count": 64
        }
      ]
    },
    {
      "metadata": {
        "id": "eOdxtMQoyfv2",
        "colab_type": "code",
        "colab": {}
      },
      "cell_type": "code",
      "source": [
        "import pandas as pd \n",
        "\n",
        "# Pulling in my DF\n",
        "ages_df = 'https://query.data.world/s/gpe2sgsocg7ru2jccqrueoxtgyanvq'\n",
        "\n",
        "# Assigning a new name to call it\n",
        "ages = pd.read_csv(ages_df)"
      ],
      "execution_count": 0,
      "outputs": []
    },
    {
      "metadata": {
        "id": "lYr4KqEHzL7x",
        "colab_type": "code",
        "colab": {}
      },
      "cell_type": "code",
      "source": [
        "grad_students_df = 'https://query.data.world/s/dokg22nzpeop44ucb5jddqnafhdpof'\n",
        "grad_students = pd.read_csv(grad_students_df)"
      ],
      "execution_count": 0,
      "outputs": []
    },
    {
      "metadata": {
        "id": "FIzA9-CUz5H1",
        "colab_type": "code",
        "colab": {}
      },
      "cell_type": "code",
      "source": [
        "majors_list_df = 'https://query.data.world/s/gm4rcgbkotyels5353ux45uoowkyrh'\n",
        "majors_list = pd.read_csv(majors_list_df)"
      ],
      "execution_count": 0,
      "outputs": []
    },
    {
      "metadata": {
        "id": "0zYoCY7F0OTw",
        "colab_type": "code",
        "colab": {}
      },
      "cell_type": "code",
      "source": [
        "recent_grads_df = 'https://query.data.world/s/e64g4m5iajb4afuc2u5gdg4hl5phmp'\n",
        "recent_grads = pd.read_csv(recent_grads_df)"
      ],
      "execution_count": 0,
      "outputs": []
    },
    {
      "metadata": {
        "id": "EXI8h9IE00bu",
        "colab_type": "code",
        "colab": {}
      },
      "cell_type": "code",
      "source": [
        "women_stem_df = 'https://query.data.world/s/fwefnniaqi5qzse5ijnipvrf6fbzgh'\n",
        "women_stem = pd.read_csv(women_stem_df)"
      ],
      "execution_count": 0,
      "outputs": []
    },
    {
      "metadata": {
        "id": "ZEGfJDp91Z_M",
        "colab_type": "text"
      },
      "cell_type": "markdown",
      "source": [
        "**Now that I have all of my data loaded, I am going to check out what each DF has to offer, look at the shape and select a couple of frames to begin visualizing.**"
      ]
    },
    {
      "metadata": {
        "id": "s1ykYTzAd_Eu",
        "colab_type": "code",
        "colab": {}
      },
      "cell_type": "code",
      "source": [
        "ages.head()"
      ],
      "execution_count": 0,
      "outputs": []
    },
    {
      "metadata": {
        "id": "UBAtUSou45In",
        "colab_type": "code",
        "colab": {
          "base_uri": "https://localhost:8080/",
          "height": 34
        },
        "outputId": "fc38371e-664b-41e8-e323-7d27f5811b6e"
      },
      "cell_type": "code",
      "source": [
        "ages.shape"
      ],
      "execution_count": 32,
      "outputs": [
        {
          "output_type": "execute_result",
          "data": {
            "text/plain": [
              "(173, 11)"
            ]
          },
          "metadata": {
            "tags": []
          },
          "execution_count": 32
        }
      ]
    },
    {
      "metadata": {
        "id": "KfRXcvx26s9y",
        "colab_type": "text"
      },
      "cell_type": "markdown",
      "source": [
        "**Note: Grad Students are presumably 25 + **"
      ]
    },
    {
      "metadata": {
        "id": "BQRNI7fie1Gu",
        "colab_type": "code",
        "colab": {}
      },
      "cell_type": "code",
      "source": [
        "grad_students.head()"
      ],
      "execution_count": 0,
      "outputs": []
    },
    {
      "metadata": {
        "id": "XW3ifSsN5C3j",
        "colab_type": "code",
        "colab": {
          "base_uri": "https://localhost:8080/",
          "height": 34
        },
        "outputId": "853d8460-9454-4786-d5f7-0503cf17e98b"
      },
      "cell_type": "code",
      "source": [
        "grad_students.shape"
      ],
      "execution_count": 35,
      "outputs": [
        {
          "output_type": "execute_result",
          "data": {
            "text/plain": [
              "(173, 22)"
            ]
          },
          "metadata": {
            "tags": []
          },
          "execution_count": 35
        }
      ]
    },
    {
      "metadata": {
        "id": "pHFruruKfKwG",
        "colab_type": "code",
        "colab": {}
      },
      "cell_type": "code",
      "source": [
        "majors_list.head()"
      ],
      "execution_count": 0,
      "outputs": []
    },
    {
      "metadata": {
        "id": "-tAGEwiK63Gd",
        "colab_type": "text"
      },
      "cell_type": "markdown",
      "source": [
        "**Note: Recent Grads are presumably <28**"
      ]
    },
    {
      "metadata": {
        "id": "rq1cm3o8fd1A",
        "colab_type": "code",
        "colab": {}
      },
      "cell_type": "code",
      "source": [
        "recent_grads.head()"
      ],
      "execution_count": 0,
      "outputs": []
    },
    {
      "metadata": {
        "id": "xa-HeNTUftur",
        "colab_type": "code",
        "colab": {}
      },
      "cell_type": "code",
      "source": [
        "women_stem.head()"
      ],
      "execution_count": 0,
      "outputs": []
    },
    {
      "metadata": {
        "id": "G8xmBLML85jC",
        "colab_type": "code",
        "colab": {
          "base_uri": "https://localhost:8080/",
          "height": 34
        },
        "outputId": "49047e46-500c-40cb-aa41-c5bdbff6f89f"
      },
      "cell_type": "code",
      "source": [
        "women_stem.shape"
      ],
      "execution_count": 36,
      "outputs": [
        {
          "output_type": "execute_result",
          "data": {
            "text/plain": [
              "(76, 9)"
            ]
          },
          "metadata": {
            "tags": []
          },
          "execution_count": 36
        }
      ]
    },
    {
      "metadata": {
        "id": "Ppxl0MB_3AIk",
        "colab_type": "text"
      },
      "cell_type": "markdown",
      "source": [
        "I aim to perform a basic analysis to solve the question of why there are not more women in technology? My belief is that women are not persuing stem related degrees. Thus, there are not enough qualified female applicants for tech related job openings. I believe if I am able to prove my theory, we can then begin the conversation of how do we get more women interested in pursing a stem degree. "
      ]
    },
    {
      "metadata": {
        "id": "ZC2Gvk__9G9A",
        "colab_type": "text"
      },
      "cell_type": "markdown",
      "source": [
        "**Since the goal is to examine what women go to school for, it is beneficial to look at all the degrees sorted into women, then go into stem specifically **"
      ]
    },
    {
      "metadata": {
        "id": "I5jzcqtF9fQe",
        "colab_type": "code",
        "colab": {
          "base_uri": "https://localhost:8080/",
          "height": 102
        },
        "outputId": "1b521010-4d34-4107-8223-fbbc25655750"
      },
      "cell_type": "code",
      "source": [
        "# Will need to look at recent grads in order to achieve this\n",
        "recent_grads.columns\n",
        "\n",
        "# The columns that matter for this are major, major category, total and men, women"
      ],
      "execution_count": 37,
      "outputs": [
        {
          "output_type": "execute_result",
          "data": {
            "text/plain": [
              "Index(['Rank', 'Major_code', 'Major', 'Major_category', 'Total', 'Sample_size',\n",
              "       'Men', 'Women', 'ShareWomen', 'Employed', 'Full_time', 'Part_time',\n",
              "       'Full_time_year_round', 'Unemployed', 'Unemployment_rate', 'Median',\n",
              "       'P25th', 'P75th', 'College_jobs', 'Non_college_jobs', 'Low_wage_jobs'],\n",
              "      dtype='object')"
            ]
          },
          "metadata": {
            "tags": []
          },
          "execution_count": 37
        }
      ]
    },
    {
      "metadata": {
        "id": "qOO1_CwWCnVE",
        "colab_type": "code",
        "colab": {}
      },
      "cell_type": "code",
      "source": [
        "# First I will check for nulls\n",
        "recent_grads.isna().sum()\n",
        "\n",
        "# We have 1 in Unemployment Rate, but I am not concerned about it since I am not focusing on unemployment just yet. "
      ],
      "execution_count": 0,
      "outputs": []
    },
    {
      "metadata": {
        "id": "Ob9QGvot-CUV",
        "colab_type": "code",
        "colab": {}
      },
      "cell_type": "code",
      "source": [
        "# Create a new DF for these cols exactly\n",
        "what_majors = (recent_grads[['Major_code', 'Major', 'Major_category', 'Total', 'Men', 'Women']])"
      ],
      "execution_count": 0,
      "outputs": []
    },
    {
      "metadata": {
        "id": "unX2qj0VEc5w",
        "colab_type": "code",
        "colab": {
          "base_uri": "https://localhost:8080/",
          "height": 204
        },
        "outputId": "8e00a012-673c-4f5e-d87f-07e77802907e"
      },
      "cell_type": "code",
      "source": [
        "what_majors.head()"
      ],
      "execution_count": 56,
      "outputs": [
        {
          "output_type": "execute_result",
          "data": {
            "text/html": [
              "<div>\n",
              "<style scoped>\n",
              "    .dataframe tbody tr th:only-of-type {\n",
              "        vertical-align: middle;\n",
              "    }\n",
              "\n",
              "    .dataframe tbody tr th {\n",
              "        vertical-align: top;\n",
              "    }\n",
              "\n",
              "    .dataframe thead th {\n",
              "        text-align: right;\n",
              "    }\n",
              "</style>\n",
              "<table border=\"1\" class=\"dataframe\">\n",
              "  <thead>\n",
              "    <tr style=\"text-align: right;\">\n",
              "      <th></th>\n",
              "      <th>Major_code</th>\n",
              "      <th>Major</th>\n",
              "      <th>Major_category</th>\n",
              "      <th>Total</th>\n",
              "      <th>Men</th>\n",
              "      <th>Women</th>\n",
              "    </tr>\n",
              "  </thead>\n",
              "  <tbody>\n",
              "    <tr>\n",
              "      <th>0</th>\n",
              "      <td>2419</td>\n",
              "      <td>PETROLEUM ENGINEERING</td>\n",
              "      <td>Engineering</td>\n",
              "      <td>2339</td>\n",
              "      <td>2057</td>\n",
              "      <td>282</td>\n",
              "    </tr>\n",
              "    <tr>\n",
              "      <th>1</th>\n",
              "      <td>2416</td>\n",
              "      <td>MINING AND MINERAL ENGINEERING</td>\n",
              "      <td>Engineering</td>\n",
              "      <td>756</td>\n",
              "      <td>679</td>\n",
              "      <td>77</td>\n",
              "    </tr>\n",
              "    <tr>\n",
              "      <th>2</th>\n",
              "      <td>2415</td>\n",
              "      <td>METALLURGICAL ENGINEERING</td>\n",
              "      <td>Engineering</td>\n",
              "      <td>856</td>\n",
              "      <td>725</td>\n",
              "      <td>131</td>\n",
              "    </tr>\n",
              "    <tr>\n",
              "      <th>3</th>\n",
              "      <td>2417</td>\n",
              "      <td>NAVAL ARCHITECTURE AND MARINE ENGINEERING</td>\n",
              "      <td>Engineering</td>\n",
              "      <td>1258</td>\n",
              "      <td>1123</td>\n",
              "      <td>135</td>\n",
              "    </tr>\n",
              "    <tr>\n",
              "      <th>4</th>\n",
              "      <td>2405</td>\n",
              "      <td>CHEMICAL ENGINEERING</td>\n",
              "      <td>Engineering</td>\n",
              "      <td>32260</td>\n",
              "      <td>21239</td>\n",
              "      <td>11021</td>\n",
              "    </tr>\n",
              "  </tbody>\n",
              "</table>\n",
              "</div>"
            ],
            "text/plain": [
              "   Major_code                                      Major Major_category  \\\n",
              "0        2419                      PETROLEUM ENGINEERING    Engineering   \n",
              "1        2416             MINING AND MINERAL ENGINEERING    Engineering   \n",
              "2        2415                  METALLURGICAL ENGINEERING    Engineering   \n",
              "3        2417  NAVAL ARCHITECTURE AND MARINE ENGINEERING    Engineering   \n",
              "4        2405                       CHEMICAL ENGINEERING    Engineering   \n",
              "\n",
              "   Total    Men  Women  \n",
              "0   2339   2057    282  \n",
              "1    756    679     77  \n",
              "2    856    725    131  \n",
              "3   1258   1123    135  \n",
              "4  32260  21239  11021  "
            ]
          },
          "metadata": {
            "tags": []
          },
          "execution_count": 56
        }
      ]
    },
    {
      "metadata": {
        "id": "7_qx2HeOH-hA",
        "colab_type": "text"
      },
      "cell_type": "markdown",
      "source": [
        "**Working on visualizations aimed towards:**\n",
        "\n",
        "** Total first, in order to see a high level, non gender pov **\n",
        "*   Total vs Major Category\n",
        "*   Total vs Majors\n",
        "\n",
        "** Majors from a high level then filtered down by specifics and gender **\n",
        "*   Major Category vs Men\n",
        "*   Major vs Men\n",
        "*   Major Category vs Women\n",
        "*   Major vs Women\n",
        "\n"
      ]
    },
    {
      "metadata": {
        "id": "atbKTs7YEyYO",
        "colab_type": "code",
        "colab": {}
      },
      "cell_type": "code",
      "source": [
        "# This doesn't tell me much, a plot that allows for categorical variables would be a better indicator unless i was to encode things\n",
        "# Adding the Major_code is a way to visualize using numeric values only\n",
        "what_majors.plot.scatter(x='Total', y='Women');\n",
        "what_majors.plot.scatter(x='Total', y='Men');"
      ],
      "execution_count": 0,
      "outputs": []
    },
    {
      "metadata": {
        "id": "W_KTxaN6GNTt",
        "colab_type": "code",
        "colab": {}
      },
      "cell_type": "code",
      "source": [
        "# Now I am kind of getting somewhere, going this way, we are able to visualize what major, \n",
        "# indicated on the x-axis and the total amount of students who went for that major.\n",
        "what_majors.plot.scatter(x='Major_code', y='Total');"
      ],
      "execution_count": 0,
      "outputs": []
    },
    {
      "metadata": {
        "id": "4b0EHO8KI01S",
        "colab_type": "code",
        "colab": {
          "base_uri": "https://localhost:8080/",
          "height": 389
        },
        "outputId": "ff5467d8-c510-496b-8050-a88dc684e790"
      },
      "cell_type": "code",
      "source": [
        "sns.catplot(x='Major_code', y='Total', col='Major_category',\n",
        "           kind='bar', data=what_majors, color='hotpink');"
      ],
      "execution_count": 75,
      "outputs": [
        {
          "output_type": "display_data",
          "data": {
            "image/png": "[encoded data removed]",
            "text/plain": [
              "<Figure size 5760x360 with 16 Axes>"
            ]
          },
          "metadata": {
            "tags": []
          }
        }
      ]
    }
  ]
}