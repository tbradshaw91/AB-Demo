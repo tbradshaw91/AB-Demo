{
  "nbformat": 4,
  "nbformat_minor": 0,
  "metadata": {
    "colab": {
      "name": "College Majors Theory.ipynb",
      "version": "0.3.2",
      "provenance": [],
      "include_colab_link": true
    },
    "kernelspec": {
      "name": "python3",
      "display_name": "Python 3"
    }
  },
  "cells": [
    {
      "cell_type": "markdown",
      "metadata": {
        "id": "view-in-github",
        "colab_type": "text"
      },
      "source": [
        "<a href=\"https://colab.research.google.com/github/tbradshaw91/AB-Demo/blob/master/College_Majors_Theory.ipynb\" target=\"_parent\"><img src=\"https://colab.research.google.com/assets/colab-badge.svg\" alt=\"Open In Colab\"/></a>"
      ]
    },
    {
      "metadata": {
        "id": "zoe-dlPAzsjX",
        "colab_type": "text"
      },
      "cell_type": "markdown",
      "source": [
        "**Pulling in all of the dataframes related to my research. I may or may not use them all, but it is good to have all of my data in one place to reference.  **"
      ]
    },
    {
      "metadata": {
        "id": "QfTs2lv20RcY",
        "colab_type": "text"
      },
      "cell_type": "markdown",
      "source": [
        "**Data Source: data.world, pulled together from fivethirtyeight**"
      ]
    },
    {
      "metadata": {
        "id": "P8dVvocvI492",
        "colab_type": "code",
        "colab": {}
      },
      "cell_type": "code",
      "source": [
        "!pip install --upgrade seaborn"
      ],
      "execution_count": 0,
      "outputs": []
    },
    {
      "metadata": {
        "id": "p9mrEpX0JQfs",
        "colab_type": "code",
        "colab": {
          "base_uri": "https://localhost:8080/",
          "height": 34
        },
        "outputId": "63d47a8e-663a-4c61-b8f3-c8bc831f4070"
      },
      "cell_type": "code",
      "source": [
        "import seaborn as sns\n",
        "sns.__version__"
      ],
      "execution_count": 234,
      "outputs": [
        {
          "output_type": "execute_result",
          "data": {
            "text/plain": [
              "'0.9.0'"
            ]
          },
          "metadata": {
            "tags": []
          },
          "execution_count": 234
        }
      ]
    },
    {
      "metadata": {
        "id": "tBJNmdXlu6Zd",
        "colab_type": "code",
        "colab": {}
      },
      "cell_type": "code",
      "source": [
        "import matplotlib.pyplot as plt"
      ],
      "execution_count": 0,
      "outputs": []
    },
    {
      "metadata": {
        "id": "eOdxtMQoyfv2",
        "colab_type": "code",
        "colab": {}
      },
      "cell_type": "code",
      "source": [
        "import pandas as pd \n",
        "\n",
        "# Pulling in my DF\n",
        "ages_df = 'https://query.data.world/s/gpe2sgsocg7ru2jccqrueoxtgyanvq'\n",
        "\n",
        "# Assigning a new name to call it\n",
        "ages = pd.read_csv(ages_df)"
      ],
      "execution_count": 0,
      "outputs": []
    },
    {
      "metadata": {
        "id": "lYr4KqEHzL7x",
        "colab_type": "code",
        "colab": {}
      },
      "cell_type": "code",
      "source": [
        "grad_students_df = 'https://query.data.world/s/dokg22nzpeop44ucb5jddqnafhdpof'\n",
        "grad_students = pd.read_csv(grad_students_df)"
      ],
      "execution_count": 0,
      "outputs": []
    },
    {
      "metadata": {
        "id": "FIzA9-CUz5H1",
        "colab_type": "code",
        "colab": {}
      },
      "cell_type": "code",
      "source": [
        "majors_list_df = 'https://query.data.world/s/gm4rcgbkotyels5353ux45uoowkyrh'\n",
        "majors_list = pd.read_csv(majors_list_df)"
      ],
      "execution_count": 0,
      "outputs": []
    },
    {
      "metadata": {
        "id": "0zYoCY7F0OTw",
        "colab_type": "code",
        "colab": {}
      },
      "cell_type": "code",
      "source": [
        "recent_grads_df = 'https://query.data.world/s/e64g4m5iajb4afuc2u5gdg4hl5phmp'\n",
        "recent_grads = pd.read_csv(recent_grads_df)"
      ],
      "execution_count": 0,
      "outputs": []
    },
    {
      "metadata": {
        "id": "EXI8h9IE00bu",
        "colab_type": "code",
        "colab": {}
      },
      "cell_type": "code",
      "source": [
        "women_stem_df = 'https://query.data.world/s/fwefnniaqi5qzse5ijnipvrf6fbzgh'\n",
        "women_stem = pd.read_csv(women_stem_df)"
      ],
      "execution_count": 0,
      "outputs": []
    },
    {
      "metadata": {
        "id": "ZEGfJDp91Z_M",
        "colab_type": "text"
      },
      "cell_type": "markdown",
      "source": [
        "**Now that I have all of my data loaded, I am going to check out what each DF has to offer, look at the shape and select a couple of frames to begin visualizing.**"
      ]
    },
    {
      "metadata": {
        "id": "s1ykYTzAd_Eu",
        "colab_type": "code",
        "colab": {}
      },
      "cell_type": "code",
      "source": [
        "ages.head()"
      ],
      "execution_count": 0,
      "outputs": []
    },
    {
      "metadata": {
        "id": "UBAtUSou45In",
        "colab_type": "code",
        "colab": {
          "base_uri": "https://localhost:8080/",
          "height": 34
        },
        "outputId": "2ba68597-894c-4ef6-d3a8-58c8739a437c"
      },
      "cell_type": "code",
      "source": [
        "ages.shape"
      ],
      "execution_count": 83,
      "outputs": [
        {
          "output_type": "execute_result",
          "data": {
            "text/plain": [
              "(173, 11)"
            ]
          },
          "metadata": {
            "tags": []
          },
          "execution_count": 83
        }
      ]
    },
    {
      "metadata": {
        "id": "KfRXcvx26s9y",
        "colab_type": "text"
      },
      "cell_type": "markdown",
      "source": [
        "**Note: Grad Students are presumably 25 + **"
      ]
    },
    {
      "metadata": {
        "id": "BQRNI7fie1Gu",
        "colab_type": "code",
        "colab": {}
      },
      "cell_type": "code",
      "source": [
        "grad_students.head()"
      ],
      "execution_count": 0,
      "outputs": []
    },
    {
      "metadata": {
        "id": "XW3ifSsN5C3j",
        "colab_type": "code",
        "colab": {
          "base_uri": "https://localhost:8080/",
          "height": 34
        },
        "outputId": "da7f459e-c9b3-49dd-c316-37dcf876597f"
      },
      "cell_type": "code",
      "source": [
        "grad_students.shape"
      ],
      "execution_count": 241,
      "outputs": [
        {
          "output_type": "execute_result",
          "data": {
            "text/plain": [
              "(173, 22)"
            ]
          },
          "metadata": {
            "tags": []
          },
          "execution_count": 241
        }
      ]
    },
    {
      "metadata": {
        "id": "pHFruruKfKwG",
        "colab_type": "code",
        "colab": {}
      },
      "cell_type": "code",
      "source": [
        "majors_list.head()"
      ],
      "execution_count": 0,
      "outputs": []
    },
    {
      "metadata": {
        "id": "-tAGEwiK63Gd",
        "colab_type": "text"
      },
      "cell_type": "markdown",
      "source": [
        "**Note: Recent Grads are presumably <28**"
      ]
    },
    {
      "metadata": {
        "id": "rq1cm3o8fd1A",
        "colab_type": "code",
        "colab": {}
      },
      "cell_type": "code",
      "source": [
        "recent_grads.head()"
      ],
      "execution_count": 0,
      "outputs": []
    },
    {
      "metadata": {
        "id": "xa-HeNTUftur",
        "colab_type": "code",
        "colab": {}
      },
      "cell_type": "code",
      "source": [
        "women_stem.head()"
      ],
      "execution_count": 0,
      "outputs": []
    },
    {
      "metadata": {
        "id": "G8xmBLML85jC",
        "colab_type": "code",
        "colab": {
          "base_uri": "https://localhost:8080/",
          "height": 34
        },
        "outputId": "a6490d11-61ed-42c0-901e-f6d717e3e20d"
      },
      "cell_type": "code",
      "source": [
        "women_stem.shape"
      ],
      "execution_count": 242,
      "outputs": [
        {
          "output_type": "execute_result",
          "data": {
            "text/plain": [
              "(76, 9)"
            ]
          },
          "metadata": {
            "tags": []
          },
          "execution_count": 242
        }
      ]
    },
    {
      "metadata": {
        "id": "Ppxl0MB_3AIk",
        "colab_type": "text"
      },
      "cell_type": "markdown",
      "source": [
        "I aim to perform a basic analysis to solve the question of why there are not more women in technology? My belief is that women are not pursuing stem related degrees. Thus, there are not enough qualified female applicants for tech related job openings. I believe if I am able to prove my theory, we can then begin the conversation of how do we get more women interested in pursuing a stem degree. "
      ]
    },
    {
      "metadata": {
        "id": "ZC2Gvk__9G9A",
        "colab_type": "text"
      },
      "cell_type": "markdown",
      "source": [
        "**Since the goal is to examine what women go to school for, it is beneficial to look at all the degrees sorted into women, then go into stem specifically **"
      ]
    },
    {
      "metadata": {
        "id": "I5jzcqtF9fQe",
        "colab_type": "code",
        "colab": {
          "base_uri": "https://localhost:8080/",
          "height": 102
        },
        "outputId": "8e67953f-7a2f-49b5-853a-7214d3e0520e"
      },
      "cell_type": "code",
      "source": [
        "# Will need to look at recent grads in order to achieve this\n",
        "recent_grads.columns\n",
        "\n",
        "# The columns that matter for this are major, major category, total and men, women"
      ],
      "execution_count": 243,
      "outputs": [
        {
          "output_type": "execute_result",
          "data": {
            "text/plain": [
              "Index(['Rank', 'Major_code', 'Major', 'Major_category', 'Total', 'Sample_size',\n",
              "       'Men', 'Women', 'ShareWomen', 'Employed', 'Full_time', 'Part_time',\n",
              "       'Full_time_year_round', 'Unemployed', 'Unemployment_rate', 'Median',\n",
              "       'P25th', 'P75th', 'College_jobs', 'Non_college_jobs', 'Low_wage_jobs'],\n",
              "      dtype='object')"
            ]
          },
          "metadata": {
            "tags": []
          },
          "execution_count": 243
        }
      ]
    },
    {
      "metadata": {
        "id": "qOO1_CwWCnVE",
        "colab_type": "code",
        "colab": {}
      },
      "cell_type": "code",
      "source": [
        "# First I will check for nulls\n",
        "recent_grads.isna().sum()\n",
        "\n",
        "# We have 1 in Unemployment Rate, but I am not concerned about it since I am not focusing on unemployment just yet. "
      ],
      "execution_count": 0,
      "outputs": []
    },
    {
      "metadata": {
        "id": "Ob9QGvot-CUV",
        "colab_type": "code",
        "colab": {}
      },
      "cell_type": "code",
      "source": [
        "# Create a new DF for these cols exactly\n",
        "what_majors = (recent_grads[['Major_code', 'Major', 'Major_category', 'Total', 'Men', 'Women']])"
      ],
      "execution_count": 0,
      "outputs": []
    },
    {
      "metadata": {
        "id": "unX2qj0VEc5w",
        "colab_type": "code",
        "colab": {}
      },
      "cell_type": "code",
      "source": [
        "what_majors.head()"
      ],
      "execution_count": 0,
      "outputs": []
    },
    {
      "metadata": {
        "id": "7_qx2HeOH-hA",
        "colab_type": "text"
      },
      "cell_type": "markdown",
      "source": [
        "**Working on visualizations aimed towards:**\n",
        "\n",
        "** Total first, in order to see a high level, non gender pov **\n",
        "*   Total vs Major Category\n",
        "\n",
        "\n",
        "** Majors from a high level then filtered down by specifics and gender **\n",
        "*   Major Category vs Men\n",
        "*   Major vs Men\n",
        "*   Major Category vs Women\n",
        "*   Major vs Women\n",
        "\n"
      ]
    },
    {
      "metadata": {
        "id": "atbKTs7YEyYO",
        "colab_type": "code",
        "colab": {}
      },
      "cell_type": "code",
      "source": [
        "# This doesn't tell me much, a plot that allows for categorical variables would be a better indicator unless i was to encode things\n",
        "# Adding the Major_code is a way to visualize using numeric values only\n",
        "what_majors.plot.scatter(x='Total', y='Women');\n",
        "what_majors.plot.scatter(x='Total', y='Men');"
      ],
      "execution_count": 0,
      "outputs": []
    },
    {
      "metadata": {
        "id": "W_KTxaN6GNTt",
        "colab_type": "code",
        "colab": {}
      },
      "cell_type": "code",
      "source": [
        "# Now I am kind of getting somewhere, going this way, we are able to visualize what major, \n",
        "# indicated on the x-axis and the total amount of students who went for that major.\n",
        "what_majors.plot.scatter(x='Major_code', y='Total');"
      ],
      "execution_count": 0,
      "outputs": []
    },
    {
      "metadata": {
        "id": "MU_dfteNcrmN",
        "colab_type": "text"
      },
      "cell_type": "markdown",
      "source": [
        "**Creating a DF for Major Category and Totals**"
      ]
    },
    {
      "metadata": {
        "id": "DFwM280Ycegd",
        "colab_type": "code",
        "colab": {}
      },
      "cell_type": "code",
      "source": [
        "totals_mc = (what_majors[['Total', 'Major_category', 'Major']])"
      ],
      "execution_count": 0,
      "outputs": []
    },
    {
      "metadata": {
        "id": "yAW9PhWOdwuI",
        "colab_type": "text"
      },
      "cell_type": "markdown",
      "source": [
        "**By sorting values high to low, I was able to see the top 10 categories both sexes pursue in college**"
      ]
    },
    {
      "metadata": {
        "id": "yskAEHigdf4M",
        "colab_type": "code",
        "colab": {
          "base_uri": "https://localhost:8080/",
          "height": 359
        },
        "outputId": "90237260-afdf-4dd7-e439-d2cec988a671"
      },
      "cell_type": "code",
      "source": [
        "totals_mc.sort_values(by='Total', ascending=False).head(10)"
      ],
      "execution_count": 249,
      "outputs": [
        {
          "output_type": "execute_result",
          "data": {
            "text/html": [
              "<div>\n",
              "<style scoped>\n",
              "    .dataframe tbody tr th:only-of-type {\n",
              "        vertical-align: middle;\n",
              "    }\n",
              "\n",
              "    .dataframe tbody tr th {\n",
              "        vertical-align: top;\n",
              "    }\n",
              "\n",
              "    .dataframe thead th {\n",
              "        text-align: right;\n",
              "    }\n",
              "</style>\n",
              "<table border=\"1\" class=\"dataframe\">\n",
              "  <thead>\n",
              "    <tr style=\"text-align: right;\">\n",
              "      <th></th>\n",
              "      <th>Total</th>\n",
              "      <th>Major_category</th>\n",
              "      <th>Major</th>\n",
              "    </tr>\n",
              "  </thead>\n",
              "  <tbody>\n",
              "    <tr>\n",
              "      <th>145</th>\n",
              "      <td>393735</td>\n",
              "      <td>Psychology &amp; Social Work</td>\n",
              "      <td>PSYCHOLOGY</td>\n",
              "    </tr>\n",
              "    <tr>\n",
              "      <th>76</th>\n",
              "      <td>329927</td>\n",
              "      <td>Business</td>\n",
              "      <td>BUSINESS MANAGEMENT AND ADMINISTRATION</td>\n",
              "    </tr>\n",
              "    <tr>\n",
              "      <th>123</th>\n",
              "      <td>280709</td>\n",
              "      <td>Biology &amp; Life Science</td>\n",
              "      <td>BIOLOGY</td>\n",
              "    </tr>\n",
              "    <tr>\n",
              "      <th>57</th>\n",
              "      <td>234590</td>\n",
              "      <td>Business</td>\n",
              "      <td>GENERAL BUSINESS</td>\n",
              "    </tr>\n",
              "    <tr>\n",
              "      <th>93</th>\n",
              "      <td>213996</td>\n",
              "      <td>Communications &amp; Journalism</td>\n",
              "      <td>COMMUNICATIONS</td>\n",
              "    </tr>\n",
              "    <tr>\n",
              "      <th>34</th>\n",
              "      <td>209394</td>\n",
              "      <td>Health</td>\n",
              "      <td>NURSING</td>\n",
              "    </tr>\n",
              "    <tr>\n",
              "      <th>77</th>\n",
              "      <td>205211</td>\n",
              "      <td>Business</td>\n",
              "      <td>MARKETING AND MARKETING RESEARCH</td>\n",
              "    </tr>\n",
              "    <tr>\n",
              "      <th>40</th>\n",
              "      <td>198633</td>\n",
              "      <td>Business</td>\n",
              "      <td>ACCOUNTING</td>\n",
              "    </tr>\n",
              "    <tr>\n",
              "      <th>137</th>\n",
              "      <td>194673</td>\n",
              "      <td>Humanities &amp; Liberal Arts</td>\n",
              "      <td>ENGLISH LANGUAGE AND LITERATURE</td>\n",
              "    </tr>\n",
              "    <tr>\n",
              "      <th>78</th>\n",
              "      <td>182621</td>\n",
              "      <td>Social Science</td>\n",
              "      <td>POLITICAL SCIENCE AND GOVERNMENT</td>\n",
              "    </tr>\n",
              "  </tbody>\n",
              "</table>\n",
              "</div>"
            ],
            "text/plain": [
              "      Total               Major_category  \\\n",
              "145  393735     Psychology & Social Work   \n",
              "76   329927                     Business   \n",
              "123  280709       Biology & Life Science   \n",
              "57   234590                     Business   \n",
              "93   213996  Communications & Journalism   \n",
              "34   209394                       Health   \n",
              "77   205211                     Business   \n",
              "40   198633                     Business   \n",
              "137  194673    Humanities & Liberal Arts   \n",
              "78   182621               Social Science   \n",
              "\n",
              "                                      Major  \n",
              "145                              PSYCHOLOGY  \n",
              "76   BUSINESS MANAGEMENT AND ADMINISTRATION  \n",
              "123                                 BIOLOGY  \n",
              "57                         GENERAL BUSINESS  \n",
              "93                           COMMUNICATIONS  \n",
              "34                                  NURSING  \n",
              "77         MARKETING AND MARKETING RESEARCH  \n",
              "40                               ACCOUNTING  \n",
              "137         ENGLISH LANGUAGE AND LITERATURE  \n",
              "78         POLITICAL SCIENCE AND GOVERNMENT  "
            ]
          },
          "metadata": {
            "tags": []
          },
          "execution_count": 249
        }
      ]
    },
    {
      "metadata": {
        "id": "HpyLY-1QnCxe",
        "colab_type": "text"
      },
      "cell_type": "markdown",
      "source": [
        "**Based on this, the most people go for a degree in Psychology and Social Work**"
      ]
    },
    {
      "metadata": {
        "id": "SrR1KA32evEU",
        "colab_type": "code",
        "colab": {}
      },
      "cell_type": "code",
      "source": [
        "# Looking at all of the possible majors in this DS\n",
        "totals_mc['Major_category'].value_counts()"
      ],
      "execution_count": 0,
      "outputs": []
    },
    {
      "metadata": {
        "id": "Fgd6YIPAgnrs",
        "colab_type": "code",
        "colab": {}
      },
      "cell_type": "code",
      "source": [
        "# Testing\n",
        "# This is plotting based on value counts which is not accurate in my opinion\n",
        "# Later on, I could try to plot data as the totals\n",
        "value_plot_totals = pd.DataFrame(\n",
        "             index=['Engineering', 'Education', 'Humanities & Liberal Arts', 'Biology & Life Science',\n",
        "                    'Business', 'Health', 'Computers & Mathematics', 'Physical Sciences', \n",
        "                    'Agriculture & Natural Resources', 'Social Science'], \n",
        "             data={'Major Number of Rows per ': [29, 16, 15, 14, 13, 12, 11, 10, 10, 9]})\n",
        "\n",
        "value_plot_totals.plot.pie('Major Number of Rows per ', figsize=(10, 10));"
      ],
      "execution_count": 0,
      "outputs": []
    },
    {
      "metadata": {
        "id": "6CIXdBTBpCzm",
        "colab_type": "code",
        "colab": {}
      },
      "cell_type": "code",
      "source": [
        "# Messing with percentages, this might be useful later to determine what percentage\n",
        "# Of students pursue what degrees\n",
        "what_majors['Total'] / what_majors['Major_code']"
      ],
      "execution_count": 0,
      "outputs": []
    },
    {
      "metadata": {
        "id": "uGEBw7T_svSi",
        "colab_type": "text"
      },
      "cell_type": "markdown",
      "source": [
        "**Digging deeper with groupby, calling on our previous totals_mc **"
      ]
    },
    {
      "metadata": {
        "id": "r4Tkg9AWsT8_",
        "colab_type": "code",
        "colab": {}
      },
      "cell_type": "code",
      "source": [
        "groups = totals_mc.groupby('Major_category')"
      ],
      "execution_count": 0,
      "outputs": []
    },
    {
      "metadata": {
        "id": "KVvt5oczsotP",
        "colab_type": "code",
        "colab": {
          "base_uri": "https://localhost:8080/",
          "height": 576
        },
        "outputId": "63482855-1311-41c6-96e1-6684b96ff220"
      },
      "cell_type": "code",
      "source": [
        "# This showed me the true values of each category, which I was able to do below on a visual level\n",
        "groups.count()"
      ],
      "execution_count": 254,
      "outputs": [
        {
          "output_type": "execute_result",
          "data": {
            "text/html": [
              "<div>\n",
              "<style scoped>\n",
              "    .dataframe tbody tr th:only-of-type {\n",
              "        vertical-align: middle;\n",
              "    }\n",
              "\n",
              "    .dataframe tbody tr th {\n",
              "        vertical-align: top;\n",
              "    }\n",
              "\n",
              "    .dataframe thead th {\n",
              "        text-align: right;\n",
              "    }\n",
              "</style>\n",
              "<table border=\"1\" class=\"dataframe\">\n",
              "  <thead>\n",
              "    <tr style=\"text-align: right;\">\n",
              "      <th></th>\n",
              "      <th>Total</th>\n",
              "      <th>Major</th>\n",
              "    </tr>\n",
              "    <tr>\n",
              "      <th>Major_category</th>\n",
              "      <th></th>\n",
              "      <th></th>\n",
              "    </tr>\n",
              "  </thead>\n",
              "  <tbody>\n",
              "    <tr>\n",
              "      <th>Agriculture &amp; Natural Resources</th>\n",
              "      <td>10</td>\n",
              "      <td>10</td>\n",
              "    </tr>\n",
              "    <tr>\n",
              "      <th>Arts</th>\n",
              "      <td>8</td>\n",
              "      <td>8</td>\n",
              "    </tr>\n",
              "    <tr>\n",
              "      <th>Biology &amp; Life Science</th>\n",
              "      <td>14</td>\n",
              "      <td>14</td>\n",
              "    </tr>\n",
              "    <tr>\n",
              "      <th>Business</th>\n",
              "      <td>13</td>\n",
              "      <td>13</td>\n",
              "    </tr>\n",
              "    <tr>\n",
              "      <th>Communications &amp; Journalism</th>\n",
              "      <td>4</td>\n",
              "      <td>4</td>\n",
              "    </tr>\n",
              "    <tr>\n",
              "      <th>Computers &amp; Mathematics</th>\n",
              "      <td>11</td>\n",
              "      <td>11</td>\n",
              "    </tr>\n",
              "    <tr>\n",
              "      <th>Education</th>\n",
              "      <td>16</td>\n",
              "      <td>16</td>\n",
              "    </tr>\n",
              "    <tr>\n",
              "      <th>Engineering</th>\n",
              "      <td>29</td>\n",
              "      <td>29</td>\n",
              "    </tr>\n",
              "    <tr>\n",
              "      <th>Health</th>\n",
              "      <td>12</td>\n",
              "      <td>12</td>\n",
              "    </tr>\n",
              "    <tr>\n",
              "      <th>Humanities &amp; Liberal Arts</th>\n",
              "      <td>15</td>\n",
              "      <td>15</td>\n",
              "    </tr>\n",
              "    <tr>\n",
              "      <th>Industrial Arts &amp; Consumer Services</th>\n",
              "      <td>7</td>\n",
              "      <td>7</td>\n",
              "    </tr>\n",
              "    <tr>\n",
              "      <th>Interdisciplinary</th>\n",
              "      <td>1</td>\n",
              "      <td>1</td>\n",
              "    </tr>\n",
              "    <tr>\n",
              "      <th>Law &amp; Public Policy</th>\n",
              "      <td>5</td>\n",
              "      <td>5</td>\n",
              "    </tr>\n",
              "    <tr>\n",
              "      <th>Physical Sciences</th>\n",
              "      <td>10</td>\n",
              "      <td>10</td>\n",
              "    </tr>\n",
              "    <tr>\n",
              "      <th>Psychology &amp; Social Work</th>\n",
              "      <td>9</td>\n",
              "      <td>9</td>\n",
              "    </tr>\n",
              "    <tr>\n",
              "      <th>Social Science</th>\n",
              "      <td>9</td>\n",
              "      <td>9</td>\n",
              "    </tr>\n",
              "  </tbody>\n",
              "</table>\n",
              "</div>"
            ],
            "text/plain": [
              "                                     Total  Major\n",
              "Major_category                                   \n",
              "Agriculture & Natural Resources         10     10\n",
              "Arts                                     8      8\n",
              "Biology & Life Science                  14     14\n",
              "Business                                13     13\n",
              "Communications & Journalism              4      4\n",
              "Computers & Mathematics                 11     11\n",
              "Education                               16     16\n",
              "Engineering                             29     29\n",
              "Health                                  12     12\n",
              "Humanities & Liberal Arts               15     15\n",
              "Industrial Arts & Consumer Services      7      7\n",
              "Interdisciplinary                        1      1\n",
              "Law & Public Policy                      5      5\n",
              "Physical Sciences                       10     10\n",
              "Psychology & Social Work                 9      9\n",
              "Social Science                           9      9"
            ]
          },
          "metadata": {
            "tags": []
          },
          "execution_count": 254
        }
      ]
    },
    {
      "metadata": {
        "id": "PrbQTRVOuHWh",
        "colab_type": "text"
      },
      "cell_type": "markdown",
      "source": [
        "**A decent visualization of what categories are seen most often **"
      ]
    },
    {
      "metadata": {
        "id": "2FGOB531fX7k",
        "colab_type": "text"
      },
      "cell_type": "markdown",
      "source": [
        "**Something to mess with...there are multiple business categories being shown, i need to refer back to my notes and correct this **"
      ]
    },
    {
      "metadata": {
        "id": "ywSyz2sLd-1l",
        "colab_type": "code",
        "colab": {}
      },
      "cell_type": "code",
      "source": [
        "# Just pulling the top 10 largest\n",
        "total_count = totals_mc.nlargest(10, 'Total')"
      ],
      "execution_count": 0,
      "outputs": []
    },
    {
      "metadata": {
        "id": "nPXruzgddjNQ",
        "colab_type": "code",
        "colab": {
          "base_uri": "https://localhost:8080/",
          "height": 656
        },
        "outputId": "fa5ecc0a-1b07-4157-92cb-612204acfbdc"
      },
      "cell_type": "code",
      "source": [
        "# Plotting the top 10 largest\n",
        "total_count.plot.bar(x='Major_category', y='Total');"
      ],
      "execution_count": 277,
      "outputs": [
        {
          "output_type": "display_data",
          "data": {
            "image/png": "[encoded data removed]",
            "text/plain": [
              "<Figure size 842.4x595.44 with 1 Axes>"
            ]
          },
          "metadata": {
            "tags": []
          }
        }
      ]
    },
    {
      "metadata": {
        "id": "F95I9g-ltG_W",
        "colab_type": "code",
        "colab": {}
      },
      "cell_type": "code",
      "source": [
        "# Looking at the value counts although, I do not think I will need this\n",
        "totals_mc['Major_category'].value_counts().plot.bar();"
      ],
      "execution_count": 0,
      "outputs": []
    },
    {
      "metadata": {
        "id": "wIUHuRMPvu_B",
        "colab_type": "code",
        "colab": {
          "base_uri": "https://localhost:8080/",
          "height": 540
        },
        "outputId": "90a637c1-e8d1-4296-842c-176abdca8195"
      },
      "cell_type": "code",
      "source": [
        "# Now this is progress I can see a little more clearly \n",
        "# The amount of people who pursued what major\n",
        "sns.catplot('Major_category', 'Total', data=totals_mc);\n",
        "plt.xticks(rotation=90);"
      ],
      "execution_count": 193,
      "outputs": [
        {
          "output_type": "display_data",
          "data": {
            "image/png": "[encoded data removed]",
            "text/plain": [
              "<Figure size 360x360 with 1 Axes>"
            ]
          },
          "metadata": {
            "tags": []
          }
        }
      ]
    },
    {
      "metadata": {
        "id": "0cNEcDPVsAvC",
        "colab_type": "text"
      },
      "cell_type": "markdown",
      "source": [
        "**Let's sort this into Men**"
      ]
    },
    {
      "metadata": {
        "id": "38tEC_9_sEST",
        "colab_type": "code",
        "colab": {}
      },
      "cell_type": "code",
      "source": [
        "men_majors = (what_majors[['Men', 'Major_category', 'Major']])"
      ],
      "execution_count": 0,
      "outputs": []
    },
    {
      "metadata": {
        "id": "kEmQEsXEBN8-",
        "colab_type": "text"
      },
      "cell_type": "markdown",
      "source": [
        "**Top 10 things men major in **"
      ]
    },
    {
      "metadata": {
        "id": "AbsMyHtj_4QV",
        "colab_type": "code",
        "colab": {
          "base_uri": "https://localhost:8080/",
          "height": 359
        },
        "outputId": "fbd63ea6-aba6-47dd-bf23-729ebfc57c4d"
      },
      "cell_type": "code",
      "source": [
        "men_majors.sort_values(by='Men', ascending=False).head(10)"
      ],
      "execution_count": 257,
      "outputs": [
        {
          "output_type": "execute_result",
          "data": {
            "text/html": [
              "<div>\n",
              "<style scoped>\n",
              "    .dataframe tbody tr th:only-of-type {\n",
              "        vertical-align: middle;\n",
              "    }\n",
              "\n",
              "    .dataframe tbody tr th {\n",
              "        vertical-align: top;\n",
              "    }\n",
              "\n",
              "    .dataframe thead th {\n",
              "        text-align: right;\n",
              "    }\n",
              "</style>\n",
              "<table border=\"1\" class=\"dataframe\">\n",
              "  <thead>\n",
              "    <tr style=\"text-align: right;\">\n",
              "      <th></th>\n",
              "      <th>Men</th>\n",
              "      <th>Major_category</th>\n",
              "      <th>Major</th>\n",
              "    </tr>\n",
              "  </thead>\n",
              "  <tbody>\n",
              "    <tr>\n",
              "      <th>79</th>\n",
              "      <td>173809</td>\n",
              "      <td>Social Science</td>\n",
              "      <td>GEOGRAPHY</td>\n",
              "    </tr>\n",
              "    <tr>\n",
              "      <th>70</th>\n",
              "      <td>132238</td>\n",
              "      <td>Psychology &amp; Social Work</td>\n",
              "      <td>INDUSTRIAL AND ORGANIZATIONAL PSYCHOLOGY</td>\n",
              "    </tr>\n",
              "    <tr>\n",
              "      <th>36</th>\n",
              "      <td>115030</td>\n",
              "      <td>Social Science</td>\n",
              "      <td>ECONOMICS</td>\n",
              "    </tr>\n",
              "    <tr>\n",
              "      <th>123</th>\n",
              "      <td>111762</td>\n",
              "      <td>Biology &amp; Life Science</td>\n",
              "      <td>BIOLOGY</td>\n",
              "    </tr>\n",
              "    <tr>\n",
              "      <th>21</th>\n",
              "      <td>99743</td>\n",
              "      <td>Agriculture &amp; Natural Resources</td>\n",
              "      <td>FOOD SCIENCE</td>\n",
              "    </tr>\n",
              "    <tr>\n",
              "      <th>48</th>\n",
              "      <td>94519</td>\n",
              "      <td>Biology &amp; Life Science</td>\n",
              "      <td>PHARMACOLOGY</td>\n",
              "    </tr>\n",
              "    <tr>\n",
              "      <th>78</th>\n",
              "      <td>93880</td>\n",
              "      <td>Social Science</td>\n",
              "      <td>POLITICAL SCIENCE AND GOVERNMENT</td>\n",
              "    </tr>\n",
              "    <tr>\n",
              "      <th>35</th>\n",
              "      <td>89749</td>\n",
              "      <td>Business</td>\n",
              "      <td>FINANCE</td>\n",
              "    </tr>\n",
              "    <tr>\n",
              "      <th>145</th>\n",
              "      <td>86648</td>\n",
              "      <td>Psychology &amp; Social Work</td>\n",
              "      <td>PSYCHOLOGY</td>\n",
              "    </tr>\n",
              "    <tr>\n",
              "      <th>12</th>\n",
              "      <td>80320</td>\n",
              "      <td>Engineering</td>\n",
              "      <td>BIOMEDICAL ENGINEERING</td>\n",
              "    </tr>\n",
              "  </tbody>\n",
              "</table>\n",
              "</div>"
            ],
            "text/plain": [
              "        Men                   Major_category  \\\n",
              "79   173809                   Social Science   \n",
              "70   132238         Psychology & Social Work   \n",
              "36   115030                   Social Science   \n",
              "123  111762           Biology & Life Science   \n",
              "21    99743  Agriculture & Natural Resources   \n",
              "48    94519           Biology & Life Science   \n",
              "78    93880                   Social Science   \n",
              "35    89749                         Business   \n",
              "145   86648         Psychology & Social Work   \n",
              "12    80320                      Engineering   \n",
              "\n",
              "                                        Major  \n",
              "79                                  GEOGRAPHY  \n",
              "70   INDUSTRIAL AND ORGANIZATIONAL PSYCHOLOGY  \n",
              "36                                  ECONOMICS  \n",
              "123                                   BIOLOGY  \n",
              "21                               FOOD SCIENCE  \n",
              "48                               PHARMACOLOGY  \n",
              "78           POLITICAL SCIENCE AND GOVERNMENT  \n",
              "35                                    FINANCE  \n",
              "145                                PSYCHOLOGY  \n",
              "12                     BIOMEDICAL ENGINEERING  "
            ]
          },
          "metadata": {
            "tags": []
          },
          "execution_count": 257
        }
      ]
    },
    {
      "metadata": {
        "id": "wgSbkXljc2WT",
        "colab_type": "code",
        "colab": {}
      },
      "cell_type": "code",
      "source": [
        "# Sorting the top 10 mens counts\n",
        "men = men_majors.nlargest(10, 'Men')"
      ],
      "execution_count": 0,
      "outputs": []
    },
    {
      "metadata": {
        "id": "Z4GHHCLRhAWr",
        "colab_type": "text"
      },
      "cell_type": "markdown",
      "source": [
        "**As with above, social service is shown multiple times, tomorrow I will need to come back and revisit this to see that I can do, maybe rename**"
      ]
    },
    {
      "metadata": {
        "id": "hxjy8jSgdJrK",
        "colab_type": "code",
        "colab": {
          "base_uri": "https://localhost:8080/",
          "height": 667
        },
        "outputId": "bc044abf-496c-441b-ecdb-e694f990e58c"
      },
      "cell_type": "code",
      "source": [
        "# Plotting top 10 mens categories for majors\n",
        "men.plot.bar(x='Major_category', y='Men');"
      ],
      "execution_count": 269,
      "outputs": [
        {
          "output_type": "display_data",
          "data": {
            "image/png": "[encoded data removed]",
            "text/plain": [
              "<Figure size 842.4x595.44 with 1 Axes>"
            ]
          },
          "metadata": {
            "tags": []
          }
        }
      ]
    }
  ]
}